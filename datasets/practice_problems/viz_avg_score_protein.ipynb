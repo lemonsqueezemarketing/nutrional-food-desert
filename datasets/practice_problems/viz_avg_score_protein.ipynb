{
 "cells": [
  {
   "cell_type": "code",
   "execution_count": 1,
   "id": "2af26dd9-3c50-4d58-b256-05449d5be861",
   "metadata": {},
   "outputs": [],
   "source": [
    "import pandas as pd\n",
    "from sqlalchemy import create_engine, inspect\n",
    "import matplotlib.pyplot as plt\n",
    "import seaborn as sns\n",
    "\n",
    "from config import DB_USER, DB_NAME, DB_PW, DB_SCHEMA"
   ]
  },
  {
   "cell_type": "code",
   "execution_count": 2,
   "id": "a95d9cee-8623-4e7e-be38-f5cd2ad1a033",
   "metadata": {},
   "outputs": [],
   "source": [
    "# Connection details\n",
    "db_user = DB_USER\n",
    "db_password = DB_PW\n",
    "db_host = \"localhost\"   # or IP address if remote\n",
    "db_port = \"5432\"        # default PostgreSQL port\n",
    "db_name = DB_NAME\n",
    "db_schema = DB_SCHEMA\n",
    "\n",
    "# Create SQLAlchemy engine\n",
    "engine = create_engine(\n",
    "    f\"postgresql+psycopg2://{db_user}:{db_password}@{db_host}:{db_port}/{db_name}\",\n",
    "    connect_args={'options': f'-csearch_path={db_schema}'}\n",
    ")\n",
    "\n",
    "inspector = inspect(engine)\n"
   ]
  },
  {
   "cell_type": "code",
   "execution_count": 3,
   "id": "9207c9a4-6d22-4a93-935d-fdf3f1933b3f",
   "metadata": {},
   "outputs": [
    {
     "name": "stdout",
     "output_type": "stream",
     "text": [
      "['atl_food_place', 'menu_items']\n"
     ]
    }
   ],
   "source": [
    "# VERIFY TABLES\n",
    "table_names = inspector.get_table_names()\n",
    "print(table_names)"
   ]
  },
  {
   "cell_type": "code",
   "execution_count": 5,
   "id": "9986276e-ca65-45d0-b1df-29a4c2cf6bd5",
   "metadata": {},
   "outputs": [],
   "source": [
    "# PLACE DATA IN PANDAS DFS\n",
    "atl_food_palce_df = pd.read_sql(\"SELECT * FROM atl_food_place\", engine)\n",
    "menu_items_df = pd.read_sql(\"SELECT * FROM menu_items\", engine)\n",
    "avg_nutr_df = pd.read_sql(\"SELECT * FROM gusto_avg_nutrition\", engine)"
   ]
  },
  {
   "cell_type": "code",
   "execution_count": null,
   "id": "e587a8d7-df7c-4015-9159-db9eaefa8e6a",
   "metadata": {},
   "outputs": [],
   "source": [
    "# PREVIEW places\n",
    "atl_food_palce_df.head()"
   ]
  },
  {
   "cell_type": "code",
   "execution_count": null,
   "id": "ec87084d-a0a9-4177-aea7-c6f6e30c53b9",
   "metadata": {},
   "outputs": [],
   "source": [
    "# PREVIEW menu_items\n",
    "menu_items_df.head()"
   ]
  },
  {
   "cell_type": "code",
   "execution_count": 14,
   "id": "3974ac1f-e1b1-499f-b551-b3a5c8358c9a",
   "metadata": {},
   "outputs": [
    {
     "data": {
      "text/html": [
       "<div>\n",
       "<style scoped>\n",
       "    .dataframe tbody tr th:only-of-type {\n",
       "        vertical-align: middle;\n",
       "    }\n",
       "\n",
       "    .dataframe tbody tr th {\n",
       "        vertical-align: top;\n",
       "    }\n",
       "\n",
       "    .dataframe thead th {\n",
       "        text-align: right;\n",
       "    }\n",
       "</style>\n",
       "<table border=\"1\" class=\"dataframe\">\n",
       "  <thead>\n",
       "    <tr style=\"text-align: right;\">\n",
       "      <th></th>\n",
       "      <th>protein_type</th>\n",
       "      <th>avg_nutrition_score</th>\n",
       "    </tr>\n",
       "  </thead>\n",
       "  <tbody>\n",
       "    <tr>\n",
       "      <th>4</th>\n",
       "      <td>Avocado</td>\n",
       "      <td>1.78</td>\n",
       "    </tr>\n",
       "    <tr>\n",
       "      <th>3</th>\n",
       "      <td>Tofu</td>\n",
       "      <td>1.94</td>\n",
       "    </tr>\n",
       "    <tr>\n",
       "      <th>2</th>\n",
       "      <td>Grilled Chicken</td>\n",
       "      <td>2.27</td>\n",
       "    </tr>\n",
       "    <tr>\n",
       "      <th>1</th>\n",
       "      <td>Spicy Chicken</td>\n",
       "      <td>2.28</td>\n",
       "    </tr>\n",
       "    <tr>\n",
       "      <th>0</th>\n",
       "      <td>Shrimp</td>\n",
       "      <td>2.35</td>\n",
       "    </tr>\n",
       "  </tbody>\n",
       "</table>\n",
       "</div>"
      ],
      "text/plain": [
       "      protein_type  avg_nutrition_score\n",
       "4          Avocado                 1.78\n",
       "3             Tofu                 1.94\n",
       "2  Grilled Chicken                 2.27\n",
       "1    Spicy Chicken                 2.28\n",
       "0           Shrimp                 2.35"
      ]
     },
     "execution_count": 14,
     "metadata": {},
     "output_type": "execute_result"
    }
   ],
   "source": [
    "# PREVIEW nutritional score view\n",
    "avg_nutr_df_sorted = avg_nutr_df.sort_values(\"avg_nutrition_score\", ascending=True)  # ascending=True because hbar inverts Y\n",
    "avg_nutr_df_sorted"
   ]
  },
  {
   "cell_type": "code",
   "execution_count": 15,
   "id": "8d14d961-e081-4c7b-aa50-c3aeb3050105",
   "metadata": {},
   "outputs": [
    {
     "data": {
      "text/plain": [
       "4          green\n",
       "3          black\n",
       "2    saddlebrown\n",
       "1            red\n",
       "0         orange\n",
       "Name: protein_type, dtype: object"
      ]
     },
     "execution_count": 15,
     "metadata": {},
     "output_type": "execute_result"
    }
   ],
   "source": [
    "# define colors\n",
    "\n",
    "# Map protein types to custom colors\n",
    "protein_colors = {\n",
    "    \"Grilled Chicken\": \"saddlebrown\",\n",
    "    \"Spicy Chicken\": \"red\",\n",
    "    \"Shrimp\": \"orange\",\n",
    "    \"Tofu\": \"black\",\n",
    "    \"Avocado\": \"green\",\n",
    "    \"Other\": \"gray\"\n",
    "}\n",
    "\n",
    "# Match colors to df order\n",
    "colors = avg_nutr_df_sorted[\"protein_type\"].map(protein_colors)\n",
    "colors"
   ]
  },
  {
   "cell_type": "code",
   "execution_count": 16,
   "id": "a13a9472-850e-4999-8d37-4f5c9a8f01d0",
   "metadata": {},
   "outputs": [
    {
     "data": {
      "image/png": "[encoded data removed]",
      "text/plain": [
       "<Figure size 1000x600 with 1 Axes>"
      ]
     },
     "metadata": {},
     "output_type": "display_data"
    }
   ],
   "source": [
    "# create horizontal bar chart\n",
    "plt.figure(figsize=(10,6))\n",
    "\n",
    "bars = plt.barh(avg_nutr_df_sorted[\"protein_type\"], avg_nutr_df_sorted[\"avg_nutrition_score\"], color=colors)\n",
    "\n",
    "# Gridlines\n",
    "plt.grid(axis=\"x\", linestyle=\"--\", alpha=0.7)\n",
    "\n",
    "# Labels and Title\n",
    "plt.xlabel(\"Average Nutrition Score\")\n",
    "plt.ylabel(\"Protein Type\")\n",
    "plt.title(\"Average Nutrition Score by Protein (Gusto)\", fontsize=14, weight=\"bold\")\n",
    "\n",
    "# Add legend manually (from protein_colors mapping)\n",
    "handles = [plt.Rectangle((0,0),1,1, color=protein_colors[p]) for p in protein_colors.keys()]\n",
    "plt.legend(handles, protein_colors.keys(), title=\"Protein\")\n",
    "\n",
    "\n",
    "# 🔹 Save as PNG\n",
    "plt.tight_layout()  # avoid label cutoff\n",
    "plt.savefig(\"avg_nutrition_by_protein.png\", dpi=300, bbox_inches=\"tight\")  # high-res PNG\n",
    "\n",
    "plt.show()\n",
    "\n"
   ]
  },
  {
   "cell_type": "code",
   "execution_count": null,
   "id": "35b5572b-82c9-421b-973d-3c04cdc46ac4",
   "metadata": {},
   "outputs": [],
   "source": []
  }
 ],
 "metadata": {
  "kernelspec": {
   "display_name": "Python 3 (ipykernel)",
   "language": "python",
   "name": "python3"
  },
  "language_info": {
   "codemirror_mode": {
    "name": "ipython",
    "version": 3
   },
   "file_extension": ".py",
   "mimetype": "text/x-python",
   "name": "python",
   "nbconvert_exporter": "python",
   "pygments_lexer": "ipython3",
   "version": "3.13.5"
  }
 },
 "nbformat": 4,
 "nbformat_minor": 5
}
